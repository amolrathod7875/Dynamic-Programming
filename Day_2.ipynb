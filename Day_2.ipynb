{
 "cells": [
  {
   "cell_type": "markdown",
   "id": "3678bbb2",
   "metadata": {},
   "source": [
    "You are given an integer array cost where cost[i] is the cost of ith step on a staircase. Once you pay the cost, you can either climb one or two steps.\n",
    "\n",
    "You can either start from the step with index 0, or the step with index 1.\n",
    "\n",
    "Return the minimum cost to reach the top of the floor."
   ]
  },
  {
   "cell_type": "markdown",
   "id": "44b9f089",
   "metadata": {},
   "source": [
    "Method 1 : Recursion\n",
    "\n",
    "time complexity : O(2^n)\n",
    "\n",
    "space complexity : O(n)"
   ]
  },
  {
   "cell_type": "code",
   "execution_count": 30,
   "id": "1efbc2b9",
   "metadata": {},
   "outputs": [
    {
     "name": "stdout",
     "output_type": "stream",
     "text": [
      "Minimum Cost : 15\n"
     ]
    }
   ],
   "source": [
    "def minCostClimbingStairs(cost):\n",
    "        n = len(cost)\n",
    "        def helper(index):\n",
    "            if index > n-1:\n",
    "                return 0\n",
    "            onestep = cost[index] + helper(index + 1)\n",
    "            twostep = cost[index] + helper(index + 2)\n",
    "            return min(onestep,twostep)\n",
    "        return min(helper(0),helper(1))\n",
    "\n",
    "print(f\"Minimum Cost : {minCostClimbingStairs(cost=[10,15,20])}\")"
   ]
  },
  {
   "cell_type": "markdown",
   "id": "8ee7432d",
   "metadata": {},
   "source": [
    "Method 2 : Memoization \n",
    "\n",
    "time comlexity : O(n)\n",
    "\n",
    "sapce complexity : O(n)\n"
   ]
  },
  {
   "cell_type": "code",
   "execution_count": 31,
   "id": "eaea4ed6",
   "metadata": {},
   "outputs": [
    {
     "name": "stdout",
     "output_type": "stream",
     "text": [
      "Minimum Cost : 15\n"
     ]
    }
   ],
   "source": [
    "def minMemo(cost):\n",
    "    n = len(cost)\n",
    "    memo = [-1]*n\n",
    "    def helper(index):\n",
    "        if index > n-1:\n",
    "            return 0\n",
    "        \n",
    "        if memo[index] != -1:\n",
    "            return memo[index]\n",
    "\n",
    "        onestep = cost[index] + helper(index + 1)\n",
    "        twostep = cost[index] + helper(index + 2)\n",
    "\n",
    "        memo[index] = min(onestep,twostep)\n",
    "        return memo[index]\n",
    "    return min(helper(0),helper(1))\n",
    "\n",
    "print(f\"Minimum Cost : {minMemo(cost=[10,15,20])}\")"
   ]
  }
 ],
 "metadata": {
  "kernelspec": {
   "display_name": "Python 3",
   "language": "python",
   "name": "python3"
  },
  "language_info": {
   "codemirror_mode": {
    "name": "ipython",
    "version": 3
   },
   "file_extension": ".py",
   "mimetype": "text/x-python",
   "name": "python",
   "nbconvert_exporter": "python",
   "pygments_lexer": "ipython3",
   "version": "3.9.23"
  }
 },
 "nbformat": 4,
 "nbformat_minor": 5
}
