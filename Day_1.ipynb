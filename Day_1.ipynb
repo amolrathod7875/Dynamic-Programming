{
 "cells": [
  {
   "cell_type": "markdown",
   "id": "5b3d22e0",
   "metadata": {},
   "source": [
    "In the Fibonacci sequence, each subsequent term is obtained by adding the preceding 2 terms. \n",
    "\n",
    "This is true for all the numbers except the first 2 numbers of the Fibonacci series as they do not have 2 preceding numbers. \n",
    "\n",
    "The first 2 terms in the Fibonacci series is 0 and 1. F(n)=F(n−1)+F(n−2) for n>1. Write a function that finds F(n) given n where n is an integer greater than equal to 0. \n",
    "\n",
    "For the first term n=0."
   ]
  },
  {
   "cell_type": "markdown",
   "id": "946c33ac",
   "metadata": {},
   "source": [
    "Clarrifying Questions : \n",
    "Test Cases : 0,1,1(0+1),2(1+1),3(1+2),5(3+2),....."
   ]
  },
  {
   "cell_type": "markdown",
   "id": "bf005fc4",
   "metadata": {},
   "source": [
    "Method 1 : Recursion \n",
    "\n",
    "Time Complexity : O(2^n)\n",
    "\n",
    "Space Complexity : O(n)"
   ]
  },
  {
   "cell_type": "code",
   "execution_count": 72,
   "id": "fd6aaf8a",
   "metadata": {},
   "outputs": [
    {
     "name": "stdout",
     "output_type": "stream",
     "text": [
      "Fibonacci Number :5\n"
     ]
    }
   ],
   "source": [
    "def fibonacci(n):\n",
    "    if n <= 1:\n",
    "        return n\n",
    "    else:\n",
    "        return fibonacci(n-1) + fibonacci(n-2)\n",
    "print(f\"Fibonacci Number :{fibonacci(5)}\")"
   ]
  },
  {
   "cell_type": "markdown",
   "id": "a40a7e3c",
   "metadata": {},
   "source": [
    "Method 2 : Memoization : Recursion + Store \n",
    "\n",
    "Time Complexity : O(n)\n",
    "\n",
    "Space Complexity : O(n)"
   ]
  },
  {
   "cell_type": "code",
   "execution_count": 73,
   "id": "a7db2aa8",
   "metadata": {},
   "outputs": [
    {
     "name": "stdout",
     "output_type": "stream",
     "text": [
      "Fibonacci Number :5\n"
     ]
    }
   ],
   "source": [
    "def fibonacci_memo(n,ht={0:0,1:1}):\n",
    "    if n in ht:\n",
    "        return ht[n]\n",
    "    else:\n",
    "        ht[n] = fibonacci_memo(n-1,ht) + fibonacci_memo(n-2,ht)\n",
    "        return ht[n]\n",
    "    \n",
    "\n",
    "print(f\"Fibonacci Number :{fibonacci_memo(5)}\")"
   ]
  },
  {
   "cell_type": "markdown",
   "id": "3c796ff1",
   "metadata": {},
   "source": [
    "Method 3 : Tabulation Approach \n",
    "\n",
    "Time Complexity : O(n)\n",
    "\n",
    "Space Complexity : O(n)"
   ]
  },
  {
   "cell_type": "code",
   "execution_count": 74,
   "id": "0508ea0a",
   "metadata": {},
   "outputs": [
    {
     "name": "stdout",
     "output_type": "stream",
     "text": [
      "Fibonacci Number : 5\n"
     ]
    }
   ],
   "source": [
    "def fibonacci_tab(n):\n",
    "    dp = [0]*(n+1)  # we will need an dp array which will go from 0 to n+1 \n",
    "    count = 1\n",
    "\n",
    "    if n>0:\n",
    "        dp[1] = 1\n",
    "\n",
    "    while(count<n):\n",
    "        count += 1\n",
    "        dp[count] = dp[count-1] + dp[count - 2]\n",
    "    \n",
    "    return dp[n]\n",
    "\n",
    "\n",
    "print(f\"Fibonacci Number : {fibonacci_tab(5)}\")"
   ]
  },
  {
   "cell_type": "markdown",
   "id": "c799bbb8",
   "metadata": {},
   "source": [
    "Method 4 : Tabulation Space Optimization \n",
    "\n",
    "Time Complexity  : O(n)\n",
    "\n",
    "Space Complexity : O(1)"
   ]
  },
  {
   "cell_type": "code",
   "execution_count": 75,
   "id": "09417022",
   "metadata": {},
   "outputs": [
    {
     "name": "stdout",
     "output_type": "stream",
     "text": [
      "Fibonacci Number :5\n"
     ]
    }
   ],
   "source": [
    "def fibonacci_space_tab(n):\n",
    "    if n<=1:\n",
    "        return n   #Test Case if n is less then or equal to 1\n",
    "    prev = 0\n",
    "    curr = 1\n",
    "    count = 1\n",
    "    while(count<n):\n",
    "        next = prev + curr\n",
    "        count += 1\n",
    "        prev = curr       #Swapping prev and curr\n",
    "        curr = next\n",
    "    return curr\n",
    "\n",
    "print(f\"Fibonacci Number :{fibonacci_space_tab(5)}\")"
   ]
  },
  {
   "cell_type": "markdown",
   "id": "766fa1ba",
   "metadata": {},
   "source": [
    "You are climbing a staircase. It takes n steps to reach the top.\n",
    "\n",
    "Each time you can either climb 1 or 2 steps. In how many distinct ways can you climb to the top?"
   ]
  },
  {
   "cell_type": "code",
   "execution_count": 77,
   "id": "00eb6046",
   "metadata": {},
   "outputs": [
    {
     "name": "stdout",
     "output_type": "stream",
     "text": [
      "It will take 8 ways to climb the stairs \n"
     ]
    }
   ],
   "source": [
    "def climbing_stairs(n):\n",
    "    if (n==1):\n",
    "        return 1\n",
    "    \n",
    "    first_step = 1\n",
    "    second_step = 2\n",
    "\n",
    "    for i in range(3,n+1):\n",
    "        current_step = first_step + second_step\n",
    "        first_step = second_step\n",
    "        second_step = current_step\n",
    "\n",
    "    return second_step\n",
    "\n",
    "print(f\"It will take {climbing_stairs(5)} ways to climb the stairs \")"
   ]
  }
 ],
 "metadata": {
  "kernelspec": {
   "display_name": "Python 3",
   "language": "python",
   "name": "python3"
  },
  "language_info": {
   "codemirror_mode": {
    "name": "ipython",
    "version": 3
   },
   "file_extension": ".py",
   "mimetype": "text/x-python",
   "name": "python",
   "nbconvert_exporter": "python",
   "pygments_lexer": "ipython3",
   "version": "3.9.23"
  }
 },
 "nbformat": 4,
 "nbformat_minor": 5
}
